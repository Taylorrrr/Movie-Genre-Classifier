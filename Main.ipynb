{
 "cells": [
  {
   "cell_type": "markdown",
   "metadata": {},
   "source": [
    "#### Name: Wentao Hao\n",
    "#### Student ID: 1096215\n",
    "#### Username: haowh"
   ]
  },
  {
   "cell_type": "code",
   "execution_count": 1,
   "metadata": {
    "ExecuteTime": {
     "end_time": "2020-05-08T13:04:34.550738Z",
     "start_time": "2020-05-08T13:04:22.542696Z"
    }
   },
   "outputs": [],
   "source": [
    "import pandas as pd\n",
    "from sklearn.naive_bayes import BernoulliNB\n",
    "from sklearn.ensemble import RandomForestClassifier\n",
    "from sklearn.tree import DecisionTreeClassifier\n",
    "from sklearn.metrics import accuracy_score\n",
    "from sklearn.neural_network import MLPClassifier\n",
    "from sklearn.metrics import classification_report"
   ]
  },
  {
   "cell_type": "code",
   "execution_count": 2,
   "metadata": {
    "ExecuteTime": {
     "end_time": "2020-05-08T13:04:35.086133Z",
     "start_time": "2020-05-08T13:04:34.553093Z"
    }
   },
   "outputs": [],
   "source": [
    "# read in all the files\n",
    "train_features = pd.read_csv('./data/train_features.tsv', sep = '\\t')\n",
    "train_labels = pd.read_csv('./data/train_labels.tsv', sep = '\\t')\n",
    "valid_features = pd.read_csv('./data/valid_features.tsv', sep = '\\t')\n",
    "valid_labels = pd.read_csv('./data/valid_labels.tsv', sep = '\\t')\n",
    "test_features = pd.read_csv('./data/test_features.tsv', sep = '\\t')"
   ]
  },
  {
   "cell_type": "code",
   "execution_count": 3,
   "metadata": {
    "ExecuteTime": {
     "end_time": "2020-05-08T13:04:35.100951Z",
     "start_time": "2020-05-08T13:04:35.088466Z"
    }
   },
   "outputs": [
    {
     "data": {
      "text/plain": [
       "(5240, 299, 235)"
      ]
     },
     "execution_count": 3,
     "metadata": {},
     "output_type": "execute_result"
    }
   ],
   "source": [
    "len(train_features), len(valid_features), len(test_features)"
   ]
  },
  {
   "cell_type": "code",
   "execution_count": 4,
   "metadata": {
    "ExecuteTime": {
     "end_time": "2020-05-08T13:04:35.255607Z",
     "start_time": "2020-05-08T13:04:35.103145Z"
    }
   },
   "outputs": [
    {
     "data": {
      "text/plain": [
       "array(['Thriller', 'Romance', 'Crime', 'Comedy', 'Musical', 'Documentary',\n",
       "       'Drama', 'Adventure', 'War', 'Horror', 'Children', 'Film_Noir',\n",
       "       'Sci_Fi', 'Mystery', 'Fantasy', 'Action', 'Western', 'Animation'],\n",
       "      dtype=object)"
      ]
     },
     "execution_count": 4,
     "metadata": {},
     "output_type": "execute_result"
    }
   ],
   "source": [
    "train_labels.genres.unique()"
   ]
  },
  {
   "cell_type": "code",
   "execution_count": 5,
   "metadata": {
    "ExecuteTime": {
     "end_time": "2020-05-08T13:04:35.487833Z",
     "start_time": "2020-05-08T13:04:35.259630Z"
    }
   },
   "outputs": [],
   "source": [
    "# perform one-hot encoding to all the tags, 1 if contains tags, 0 otherwise\n",
    "tags = train_features.tag.str.split(',', expand = True).stack().unique()\n",
    "for tag in tags:\n",
    "    train_features[tag] = train_features.tag.apply(lambda x : 1 if tag in x.split(',') else 0)\n",
    "    valid_features[tag] = valid_features.tag.apply(lambda x : 1 if tag in x.split(',') else 0)    \n",
    "    test_features[tag] = test_features.tag.apply(lambda x : 1 if tag in x.split(',') else 0) "
   ]
  },
  {
   "cell_type": "code",
   "execution_count": 6,
   "metadata": {
    "ExecuteTime": {
     "end_time": "2020-05-08T13:05:24.223108Z",
     "start_time": "2020-05-08T13:05:24.122583Z"
    }
   },
   "outputs": [
    {
     "data": {
      "text/plain": [
       "(5240, 327)"
      ]
     },
     "execution_count": 6,
     "metadata": {},
     "output_type": "execute_result"
    }
   ],
   "source": [
    "# extract features and transform to numpy array\n",
    "# avf1-avf107 10\n",
    "# ivec1-ivec20 20\n",
    "# tags 200\n",
    "# total 327 features\n",
    "train_X = train_features.iloc[:, 5:].to_numpy()\n",
    "train_y = train_labels.genres.to_numpy()\n",
    "valid_X = valid_features.iloc[:, 5:].to_numpy()\n",
    "valid_y = valid_labels.genres.to_numpy()\n",
    "test_X = test_features.iloc[:, 5:].to_numpy()\n",
    "train_X.shape"
   ]
  },
  {
   "cell_type": "code",
   "execution_count": 7,
   "metadata": {
    "ExecuteTime": {
     "end_time": "2020-05-08T09:34:33.534348Z",
     "start_time": "2020-05-08T09:34:12.994614Z"
    }
   },
   "outputs": [
    {
     "name": "stdout",
     "output_type": "stream",
     "text": [
      "train accuracy:  0.533969465648855\n",
      "valid accuracy:  0.3311036789297659\n",
      "              precision    recall  f1-score   support\n",
      "\n",
      "      Action       1.00      0.00      0.00         6\n",
      "   Adventure       1.00      0.00      0.00         2\n",
      "   Animation       1.00      0.00      0.00         3\n",
      "    Children       1.00      0.00      0.00         3\n",
      "      Comedy       0.36      0.55      0.44        38\n",
      "       Crime       1.00      0.00      0.00         5\n",
      " Documentary       0.71      0.28      0.40        18\n",
      "       Drama       0.23      0.51      0.32        43\n",
      "     Fantasy       1.00      0.22      0.36        18\n",
      "   Film_Noir       1.00      0.00      0.00         4\n",
      "      Horror       1.00      0.00      0.00         8\n",
      "     Musical       0.00      0.00      0.00        10\n",
      "     Mystery       1.00      0.00      0.00        18\n",
      "     Romance       0.33      0.27      0.30        51\n",
      "      Sci_Fi       0.65      0.69      0.67        16\n",
      "    Thriller       0.25      0.57      0.34        28\n",
      "         War       0.67      0.29      0.40        21\n",
      "     Western       1.00      0.00      0.00         7\n",
      "\n",
      "    accuracy                           0.33       299\n",
      "   macro avg       0.73      0.19      0.18       299\n",
      "weighted avg       0.53      0.33      0.29       299\n",
      "\n"
     ]
    }
   ],
   "source": [
    "# random forest\n",
    "clf1 = RandomForestClassifier(max_features = 100, min_samples_leaf = 20)\n",
    "clf1.fit(train_X, train_y)\n",
    "train_y_hat = clf1.predict(train_X)\n",
    "print(\"train accuracy: \", accuracy_score(train_y, train_y_hat))\n",
    "valid_y_hat = clf1.predict(valid_X)\n",
    "print(\"valid accuracy: \", accuracy_score(valid_y, valid_y_hat))\n",
    "print(classification_report(valid_y, valid_y_hat, zero_division = 1))\n",
    "test_y = clf1.predict(test_X)\n",
    "test_labels = pd.DataFrame()\n",
    "test_labels['movieId'] = test_features.movieId\n",
    "test_labels['genres'] = test_y\n",
    "test_labels.to_csv('./random-forest-labels.csv', index = False)"
   ]
  },
  {
   "cell_type": "code",
   "execution_count": 8,
   "metadata": {
    "ExecuteTime": {
     "end_time": "2020-05-08T09:34:33.705746Z",
     "start_time": "2020-05-08T09:34:33.540046Z"
    }
   },
   "outputs": [
    {
     "name": "stdout",
     "output_type": "stream",
     "text": [
      "train acc:  0.36393129770992366\n",
      "valid acc:  0.3311036789297659\n",
      "              precision    recall  f1-score   support\n",
      "\n",
      "      Action       0.00      0.00      0.00         6\n",
      "   Adventure       1.00      0.00      0.00         2\n",
      "   Animation       0.00      0.00      0.00         3\n",
      "    Children       0.20      0.33      0.25         3\n",
      "      Comedy       0.30      0.76      0.43        38\n",
      "       Crime       0.00      0.00      0.00         5\n",
      " Documentary       0.38      0.78      0.51        18\n",
      "       Drama       0.29      0.26      0.27        43\n",
      "     Fantasy       0.47      0.50      0.49        18\n",
      "   Film_Noir       0.12      0.25      0.17         4\n",
      "      Horror       0.00      0.00      0.00         8\n",
      "     Musical       1.00      0.10      0.18        10\n",
      "     Mystery       1.00      0.06      0.11        18\n",
      "     Romance       0.62      0.16      0.25        51\n",
      "      Sci_Fi       0.67      0.38      0.48        16\n",
      "    Thriller       0.28      0.57      0.37        28\n",
      "         War       0.33      0.10      0.15        21\n",
      "     Western       1.00      0.00      0.00         7\n",
      "\n",
      "    accuracy                           0.33       299\n",
      "   macro avg       0.43      0.24      0.20       299\n",
      "weighted avg       0.45      0.33      0.28       299\n",
      "\n"
     ]
    }
   ],
   "source": [
    "# naive bayes\n",
    "clf2 = BernoulliNB()\n",
    "clf2.fit(train_X, train_y)\n",
    "train_y_hat = clf2.predict(train_X)\n",
    "print(\"train acc: \", accuracy_score(train_y, train_y_hat))\n",
    "valid_y_hat = clf2.predict(valid_X)\n",
    "print(\"valid acc: \", accuracy_score(valid_y, valid_y_hat))\n",
    "print(classification_report(valid_y, valid_y_hat, zero_division = 1))\n",
    "test_y = clf2.predict(test_X)\n",
    "test_labels = pd.DataFrame()\n",
    "test_labels['movieId'] = test_features.movieId\n",
    "test_labels['genres'] = test_y\n",
    "test_labels.to_csv('./naive-bayes-lebels.csv', index = False)"
   ]
  },
  {
   "cell_type": "code",
   "execution_count": 9,
   "metadata": {},
   "outputs": [
    {
     "name": "stdout",
     "output_type": "stream",
     "text": [
      "train acc:  0.9230916030534351\n",
      "valid acc:  0.31438127090301005\n",
      "              precision    recall  f1-score   support\n",
      "\n",
      "      Action       0.17      0.17      0.17         6\n",
      "   Adventure       0.00      0.00      0.00         2\n",
      "   Animation       0.50      0.33      0.40         3\n",
      "    Children       0.25      0.67      0.36         3\n",
      "      Comedy       0.34      0.32      0.33        38\n",
      "       Crime       0.14      0.60      0.23         5\n",
      " Documentary       0.53      0.56      0.54        18\n",
      "       Drama       0.33      0.33      0.33        43\n",
      "     Fantasy       0.33      0.17      0.22        18\n",
      "   Film_Noir       0.25      0.25      0.25         4\n",
      "      Horror       0.00      0.00      0.00         8\n",
      "     Musical       0.14      0.20      0.17        10\n",
      "     Mystery       0.15      0.11      0.13        18\n",
      "     Romance       0.38      0.37      0.38        51\n",
      "      Sci_Fi       0.38      0.38      0.38        16\n",
      "    Thriller       0.44      0.43      0.44        28\n",
      "         War       0.46      0.29      0.35        21\n",
      "     Western       0.00      0.00      0.00         7\n",
      "\n",
      "    accuracy                           0.31       299\n",
      "   macro avg       0.27      0.29      0.26       299\n",
      "weighted avg       0.33      0.31      0.32       299\n",
      "\n"
     ]
    }
   ],
   "source": [
    "# neural network\n",
    "clf4 = MLPClassifier(hidden_layer_sizes=(80, 80, 80), activation ='tanh', solver = 'adam', max_iter = 500)\n",
    "clf4.fit(train_X, train_y)\n",
    "train_y_hat = clf4.predict(train_X)\n",
    "print(\"train acc: \", accuracy_score(train_y, train_y_hat))\n",
    "valid_y_hat = clf4.predict(valid_X)\n",
    "print(\"valid acc: \", accuracy_score(valid_y, valid_y_hat))\n",
    "print(classification_report(valid_y, valid_y_hat, zero_division = 1))\n",
    "test_y = clf4.predict(test_X)\n",
    "test_labels = pd.DataFrame()\n",
    "test_labels['movieId'] = test_features.movieId\n",
    "test_labels['genres'] = test_y\n",
    "test_labels.to_csv('./neural-network-labels.csv', index = False)"
   ]
  }
 ],
 "metadata": {
  "kernelspec": {
   "display_name": "Python 3",
   "language": "python",
   "name": "python3"
  },
  "language_info": {
   "codemirror_mode": {
    "name": "ipython",
    "version": 3
   },
   "file_extension": ".py",
   "mimetype": "text/x-python",
   "name": "python",
   "nbconvert_exporter": "python",
   "pygments_lexer": "ipython3",
   "version": "3.7.7"
  },
  "latex_envs": {
   "LaTeX_envs_menu_present": true,
   "autoclose": false,
   "autocomplete": true,
   "bibliofile": "biblio.bib",
   "cite_by": "apalike",
   "current_citInitial": 1,
   "eqLabelWithNumbers": true,
   "eqNumInitial": 1,
   "hotkeys": {
    "equation": "Ctrl-E",
    "itemize": "Ctrl-I"
   },
   "labels_anchors": false,
   "latex_user_defs": false,
   "report_style_numbering": false,
   "user_envs_cfg": false
  }
 },
 "nbformat": 4,
 "nbformat_minor": 2
}
