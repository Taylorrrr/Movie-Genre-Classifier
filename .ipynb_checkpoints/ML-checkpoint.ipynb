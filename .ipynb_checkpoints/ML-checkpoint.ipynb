{
 "cells": [
  {
   "cell_type": "code",
   "execution_count": 1,
   "metadata": {
    "ExecuteTime": {
     "end_time": "2020-05-08T13:04:34.550738Z",
     "start_time": "2020-05-08T13:04:22.542696Z"
    }
   },
   "outputs": [],
   "source": [
    "import pandas as pd\n",
    "from sklearn.naive_bayes import BernoulliNB\n",
    "from sklearn.ensemble import RandomForestClassifier\n",
    "from sklearn.tree import DecisionTreeClassifier\n",
    "from sklearn.metrics import accuracy_score"
   ]
  },
  {
   "cell_type": "code",
   "execution_count": 2,
   "metadata": {
    "ExecuteTime": {
     "end_time": "2020-05-08T13:04:35.086133Z",
     "start_time": "2020-05-08T13:04:34.553093Z"
    }
   },
   "outputs": [],
   "source": [
    "# read files\n",
    "train_features = pd.read_csv('./data/train_features.tsv',sep='\\t')\n",
    "train_labels = pd.read_csv('./data/train_labels.tsv',sep='\\t')\n",
    "valid_features = pd.read_csv('./data/valid_features.tsv',sep='\\t')\n",
    "valid_labels = pd.read_csv('./data/valid_labels.tsv',sep='\\t')\n",
    "test_features = pd.read_csv('./data/test_features.tsv',sep='\\t')"
   ]
  },
  {
   "cell_type": "code",
   "execution_count": 3,
   "metadata": {
    "ExecuteTime": {
     "end_time": "2020-05-08T13:04:35.100951Z",
     "start_time": "2020-05-08T13:04:35.088466Z"
    }
   },
   "outputs": [
    {
     "data": {
      "text/plain": [
       "(5240, 299, 298)"
      ]
     },
     "execution_count": 3,
     "metadata": {},
     "output_type": "execute_result"
    }
   ],
   "source": [
    "len(train_features),len(valid_features),len(test_features)"
   ]
  },
  {
   "cell_type": "code",
   "execution_count": 4,
   "metadata": {
    "ExecuteTime": {
     "end_time": "2020-05-08T13:04:35.255607Z",
     "start_time": "2020-05-08T13:04:35.103145Z"
    }
   },
   "outputs": [
    {
     "data": {
      "text/plain": [
       "array(['Thriller', 'Romance', 'Crime', 'Comedy', 'Musical', 'Documentary',\n",
       "       'Drama', 'Adventure', 'War', 'Horror', 'Children', 'Film_Noir',\n",
       "       'Sci_Fi', 'Mystery', 'Fantasy', 'Action', 'Western', 'Animation'],\n",
       "      dtype=object)"
      ]
     },
     "execution_count": 4,
     "metadata": {},
     "output_type": "execute_result"
    }
   ],
   "source": [
    "train_labels.genres.unique()"
   ]
  },
  {
   "cell_type": "code",
   "execution_count": 5,
   "metadata": {
    "ExecuteTime": {
     "end_time": "2020-05-08T13:04:35.487833Z",
     "start_time": "2020-05-08T13:04:35.259630Z"
    }
   },
   "outputs": [],
   "source": [
    "# perform one-hot encoding to all the tags\n",
    "tags = train_features.tag.str.split(',',expand=True).stack().unique()"
   ]
  },
  {
   "cell_type": "code",
   "execution_count": 6,
   "metadata": {
    "ExecuteTime": {
     "end_time": "2020-05-08T13:05:24.120765Z",
     "start_time": "2020-05-08T13:05:23.031553Z"
    }
   },
   "outputs": [],
   "source": [
    "# 1 if contains tags, o otherwise\n",
    "for tag in tags:\n",
    "    train_features[tag]=train_features.tag.apply(lambda x:1 if tag in x.split(',') else 0)\n",
    "    valid_features[tag]=valid_features.tag.apply(lambda x:1 if tag in x.split(',') else 0)    \n",
    "    test_features[tag]=test_features.tag.apply(lambda x:1 if tag in x.split(',') else 0)    "
   ]
  },
  {
   "cell_type": "code",
   "execution_count": 7,
   "metadata": {
    "ExecuteTime": {
     "end_time": "2020-05-08T13:05:24.223108Z",
     "start_time": "2020-05-08T13:05:24.122583Z"
    }
   },
   "outputs": [
    {
     "data": {
      "text/plain": [
       "(5240, 327)"
      ]
     },
     "execution_count": 7,
     "metadata": {},
     "output_type": "execute_result"
    }
   ],
   "source": [
    "# extract features and transform to numpy array\n",
    "# avf1-avf107 107\n",
    "# ivec1-ivec20 20\n",
    "# tags 200\n",
    "# total 327 features\n",
    "train_X = train_features.iloc[:,5:].to_numpy()\n",
    "train_y = train_labels.genres.to_numpy()\n",
    "valid_X = valid_features.iloc[:,5:].to_numpy()\n",
    "valid_y = valid_labels.genres.to_numpy()\n",
    "test_X = test_features.iloc[:,5:].to_numpy()\n",
    "train_X.shape"
   ]
  },
  {
   "cell_type": "code",
   "execution_count": 8,
   "metadata": {
    "ExecuteTime": {
     "end_time": "2020-05-08T09:34:33.534348Z",
     "start_time": "2020-05-08T09:34:12.994614Z"
    }
   },
   "outputs": [
    {
     "name": "stdout",
     "output_type": "stream",
     "text": [
      "train acc:  0.5318702290076336\n",
      "valid acc:  0.3377926421404682\n"
     ]
    }
   ],
   "source": [
    "# random forest\n",
    "clf1 = RandomForestClassifier(max_features=100,min_samples_leaf=20)\n",
    "clf1.fit(train_X,train_y)\n",
    "train_y_hat = clf1.predict(train_X)\n",
    "print(\"train acc: \",accuracy_score(train_y,train_y_hat))\n",
    "valid_y_hat = clf1.predict(valid_X)\n",
    "print(\"valid acc: \",accuracy_score(valid_y,valid_y_hat))\n",
    "test_y = clf1.predict(test_X)\n",
    "test_labels = pd.DataFrame()\n",
    "test_labels['movieId']=test_features.movieId\n",
    "test_labels['genres']=test_y\n",
    "test_labels.to_csv('./rf.csv',index=False,sep='\\t')"
   ]
  },
  {
   "cell_type": "code",
   "execution_count": 9,
   "metadata": {
    "ExecuteTime": {
     "end_time": "2020-05-08T09:34:33.705746Z",
     "start_time": "2020-05-08T09:34:33.540046Z"
    }
   },
   "outputs": [
    {
     "name": "stdout",
     "output_type": "stream",
     "text": [
      "train acc:  0.36393129770992366\n",
      "valid acc:  0.3311036789297659\n"
     ]
    }
   ],
   "source": [
    "#nave bayes\n",
    "clf2 = BernoulliNB()\n",
    "clf2.fit(train_X,train_y)\n",
    "train_y_hat = clf2.predict(train_X)\n",
    "print(\"train acc: \",accuracy_score(train_y,train_y_hat))\n",
    "valid_y_hat = clf2.predict(valid_X)\n",
    "print(\"valid acc: \",accuracy_score(valid_y,valid_y_hat))\n",
    "test_y = clf1.predict(test_X)\n",
    "test_labels = pd.DataFrame()\n",
    "test_labels['movieId']=test_features.movieId\n",
    "test_labels['genres']=test_y\n",
    "test_labels.to_csv('./nb.csv',index=False,sep='\\t')"
   ]
  },
  {
   "cell_type": "code",
   "execution_count": 10,
   "metadata": {
    "ExecuteTime": {
     "end_time": "2020-05-08T09:34:35.242587Z",
     "start_time": "2020-05-08T09:34:33.710308Z"
    }
   },
   "outputs": [
    {
     "name": "stdout",
     "output_type": "stream",
     "text": [
      "train acc:  0.3761450381679389\n",
      "valid acc:  0.3612040133779264\n"
     ]
    }
   ],
   "source": [
    "# decision tree\n",
    "clf3 = DecisionTreeClassifier(min_samples_split=210)\n",
    "clf3.fit(train_X,train_y)\n",
    "train_y_hat = clf3.predict(train_X)\n",
    "print(\"train acc: \",accuracy_score(train_y,train_y_hat))\n",
    "valid_y_hat = clf3.predict(valid_X)\n",
    "print(\"valid acc: \",accuracy_score(valid_y,valid_y_hat))\n",
    "test_y = clf1.predict(test_X)\n",
    "test_labels = pd.DataFrame()\n",
    "test_labels['movieId']=test_features.movieId\n",
    "test_labels['genres']=test_y\n",
    "test_labels.to_csv('./dt.csv',index=False,sep='\\t')"
   ]
  }
 ],
 "metadata": {
  "kernelspec": {
   "display_name": "Python 3",
   "language": "python",
   "name": "python3"
  },
  "language_info": {
   "codemirror_mode": {
    "name": "ipython",
    "version": 3
   },
   "file_extension": ".py",
   "mimetype": "text/x-python",
   "name": "python",
   "nbconvert_exporter": "python",
   "pygments_lexer": "ipython3",
   "version": "3.7.7"
  },
  "latex_envs": {
   "LaTeX_envs_menu_present": true,
   "autoclose": false,
   "autocomplete": true,
   "bibliofile": "biblio.bib",
   "cite_by": "apalike",
   "current_citInitial": 1,
   "eqLabelWithNumbers": true,
   "eqNumInitial": 1,
   "hotkeys": {
    "equation": "Ctrl-E",
    "itemize": "Ctrl-I"
   },
   "labels_anchors": false,
   "latex_user_defs": false,
   "report_style_numbering": false,
   "user_envs_cfg": false
  }
 },
 "nbformat": 4,
 "nbformat_minor": 2
}
